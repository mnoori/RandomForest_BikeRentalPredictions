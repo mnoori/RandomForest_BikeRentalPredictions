{
 "cells": [
  {
   "cell_type": "markdown",
   "metadata": {},
   "source": [
    "Many American cities have communal bike sharing stations where you can rent bicycles by the hour or day. Washington, D.C. is one of these cities. The District collects detailed data on the number of bicycles people rent by the hour and day.\n",
    "\n",
    "Hadi Fanaee-T at the University of Porto compiled this data into a CSV file, which you'll be working with in this project. The file contains 17380 rows, with each row representing the number of bike rentals for a single hour of a single day. You can download the data from [the University of California, Irvine's website](http://archive.ics.uci.edu/ml/datasets/Bike+Sharing+Dataset).\n",
    "\n",
    "Here are the descriptions for the relevant columns:\n",
    "\n",
    "* `instant` - A unique sequential ID number for each row\n",
    "* `dteday` - The date of the rentals\n",
    "* `season` - The season in which the rentals occurred\n",
    "* `yr` - The year the rentals occurred\n",
    "* `mnth` - The month the rentals occurred\n",
    "* `hr` - The hour the rentals occurred\n",
    "* `holiday` - Whether or not the day was a holiday\n",
    "* `weekday` - The day of the week (as a number, 0 to 7)\n",
    "* `workingday` - Whether or not the day was a working day\n",
    "* `weathersit` - The weather (as a categorical variable)\n",
    "* `temp` - The temperature, on a 0-1 scale\n",
    "* `atemp` - The adjusted temperature\n",
    "* `hum` - The humidity, on a 0-1 scale\n",
    "* `windspeed` - The wind speed, on a 0-1 scale\n",
    "* `casual` - The number of casual riders (people who hadn't previously signed up with the bike sharing program)\n",
    "* `registered` - The number of registered riders (people who had already signed up)\n",
    "* `cnt` - The total number of bike rentals (casual + registered)\n",
    "\n",
    "### Analysis Goal\n",
    "I will try to predict the total number of bikes people rented in a given hour. I'll predict the `cnt` column using all of the other columns, except for `casual` and `registered`."
   ]
  },
  {
   "cell_type": "code",
   "execution_count": 7,
   "metadata": {},
   "outputs": [
    {
     "data": {
      "text/html": [
       "<div>\n",
       "<style>\n",
       "    .dataframe thead tr:only-child th {\n",
       "        text-align: right;\n",
       "    }\n",
       "\n",
       "    .dataframe thead th {\n",
       "        text-align: left;\n",
       "    }\n",
       "\n",
       "    .dataframe tbody tr th {\n",
       "        vertical-align: top;\n",
       "    }\n",
       "</style>\n",
       "<table border=\"1\" class=\"dataframe\">\n",
       "  <thead>\n",
       "    <tr style=\"text-align: right;\">\n",
       "      <th></th>\n",
       "      <th>instant</th>\n",
       "      <th>dteday</th>\n",
       "      <th>season</th>\n",
       "      <th>yr</th>\n",
       "      <th>mnth</th>\n",
       "      <th>hr</th>\n",
       "      <th>holiday</th>\n",
       "      <th>weekday</th>\n",
       "      <th>workingday</th>\n",
       "      <th>weathersit</th>\n",
       "      <th>temp</th>\n",
       "      <th>atemp</th>\n",
       "      <th>hum</th>\n",
       "      <th>windspeed</th>\n",
       "      <th>casual</th>\n",
       "      <th>registered</th>\n",
       "      <th>cnt</th>\n",
       "    </tr>\n",
       "  </thead>\n",
       "  <tbody>\n",
       "    <tr>\n",
       "      <th>0</th>\n",
       "      <td>1</td>\n",
       "      <td>2011-01-01</td>\n",
       "      <td>1</td>\n",
       "      <td>0</td>\n",
       "      <td>1</td>\n",
       "      <td>0</td>\n",
       "      <td>0</td>\n",
       "      <td>6</td>\n",
       "      <td>0</td>\n",
       "      <td>1</td>\n",
       "      <td>0.24</td>\n",
       "      <td>0.2879</td>\n",
       "      <td>0.81</td>\n",
       "      <td>0.0</td>\n",
       "      <td>3</td>\n",
       "      <td>13</td>\n",
       "      <td>16</td>\n",
       "    </tr>\n",
       "    <tr>\n",
       "      <th>1</th>\n",
       "      <td>2</td>\n",
       "      <td>2011-01-01</td>\n",
       "      <td>1</td>\n",
       "      <td>0</td>\n",
       "      <td>1</td>\n",
       "      <td>1</td>\n",
       "      <td>0</td>\n",
       "      <td>6</td>\n",
       "      <td>0</td>\n",
       "      <td>1</td>\n",
       "      <td>0.22</td>\n",
       "      <td>0.2727</td>\n",
       "      <td>0.80</td>\n",
       "      <td>0.0</td>\n",
       "      <td>8</td>\n",
       "      <td>32</td>\n",
       "      <td>40</td>\n",
       "    </tr>\n",
       "    <tr>\n",
       "      <th>2</th>\n",
       "      <td>3</td>\n",
       "      <td>2011-01-01</td>\n",
       "      <td>1</td>\n",
       "      <td>0</td>\n",
       "      <td>1</td>\n",
       "      <td>2</td>\n",
       "      <td>0</td>\n",
       "      <td>6</td>\n",
       "      <td>0</td>\n",
       "      <td>1</td>\n",
       "      <td>0.22</td>\n",
       "      <td>0.2727</td>\n",
       "      <td>0.80</td>\n",
       "      <td>0.0</td>\n",
       "      <td>5</td>\n",
       "      <td>27</td>\n",
       "      <td>32</td>\n",
       "    </tr>\n",
       "    <tr>\n",
       "      <th>3</th>\n",
       "      <td>4</td>\n",
       "      <td>2011-01-01</td>\n",
       "      <td>1</td>\n",
       "      <td>0</td>\n",
       "      <td>1</td>\n",
       "      <td>3</td>\n",
       "      <td>0</td>\n",
       "      <td>6</td>\n",
       "      <td>0</td>\n",
       "      <td>1</td>\n",
       "      <td>0.24</td>\n",
       "      <td>0.2879</td>\n",
       "      <td>0.75</td>\n",
       "      <td>0.0</td>\n",
       "      <td>3</td>\n",
       "      <td>10</td>\n",
       "      <td>13</td>\n",
       "    </tr>\n",
       "    <tr>\n",
       "      <th>4</th>\n",
       "      <td>5</td>\n",
       "      <td>2011-01-01</td>\n",
       "      <td>1</td>\n",
       "      <td>0</td>\n",
       "      <td>1</td>\n",
       "      <td>4</td>\n",
       "      <td>0</td>\n",
       "      <td>6</td>\n",
       "      <td>0</td>\n",
       "      <td>1</td>\n",
       "      <td>0.24</td>\n",
       "      <td>0.2879</td>\n",
       "      <td>0.75</td>\n",
       "      <td>0.0</td>\n",
       "      <td>0</td>\n",
       "      <td>1</td>\n",
       "      <td>1</td>\n",
       "    </tr>\n",
       "  </tbody>\n",
       "</table>\n",
       "</div>"
      ],
      "text/plain": [
       "   instant      dteday  season  yr  mnth  hr  holiday  weekday  workingday  \\\n",
       "0        1  2011-01-01       1   0     1   0        0        6           0   \n",
       "1        2  2011-01-01       1   0     1   1        0        6           0   \n",
       "2        3  2011-01-01       1   0     1   2        0        6           0   \n",
       "3        4  2011-01-01       1   0     1   3        0        6           0   \n",
       "4        5  2011-01-01       1   0     1   4        0        6           0   \n",
       "\n",
       "   weathersit  temp   atemp   hum  windspeed  casual  registered  cnt  \n",
       "0           1  0.24  0.2879  0.81        0.0       3          13   16  \n",
       "1           1  0.22  0.2727  0.80        0.0       8          32   40  \n",
       "2           1  0.22  0.2727  0.80        0.0       5          27   32  \n",
       "3           1  0.24  0.2879  0.75        0.0       3          10   13  \n",
       "4           1  0.24  0.2879  0.75        0.0       0           1    1  "
      ]
     },
     "execution_count": 7,
     "metadata": {},
     "output_type": "execute_result"
    }
   ],
   "source": [
    "import pandas as pd\n",
    "import matplotlib.pyplot as plt\n",
    "%matplotlib inline\n",
    "import seaborn as sns\n",
    "\n",
    "bike_rentals=pd.read_csv('bike_rental_hour.csv')\n",
    "bike_rentals.head()"
   ]
  },
  {
   "cell_type": "code",
   "execution_count": 5,
   "metadata": {},
   "outputs": [
    {
     "data": {
      "text/plain": [
       "instant       0\n",
       "dteday        0\n",
       "season        0\n",
       "yr            0\n",
       "mnth          0\n",
       "hr            0\n",
       "holiday       0\n",
       "weekday       0\n",
       "workingday    0\n",
       "weathersit    0\n",
       "temp          0\n",
       "atemp         0\n",
       "hum           0\n",
       "windspeed     0\n",
       "casual        0\n",
       "registered    0\n",
       "cnt           0\n",
       "dtype: int64"
      ]
     },
     "execution_count": 5,
     "metadata": {},
     "output_type": "execute_result"
    }
   ],
   "source": [
    "bike_rentals.isnull().sum()"
   ]
  },
  {
   "cell_type": "markdown",
   "metadata": {},
   "source": [
    "Sweet! Thank you Hadi Fanaee-T for providing such clean data set."
   ]
  },
  {
   "cell_type": "code",
   "execution_count": 6,
   "metadata": {},
   "outputs": [
    {
     "data": {
      "text/plain": [
       "<matplotlib.axes._subplots.AxesSubplot at 0x10e6ed588>"
      ]
     },
     "execution_count": 6,
     "metadata": {},
     "output_type": "execute_result"
    },
    {
     "data": {
      "image/png": "[encoded data removed]",
      "text/plain": [
       "<matplotlib.figure.Figure at 0x10e68f7b8>"
      ]
     },
     "metadata": {},
     "output_type": "display_data"
    }
   ],
   "source": [
    "#histogram of target column\n",
    "bike_rentals.cnt.hist()"
   ]
  },
  {
   "cell_type": "code",
   "execution_count": 13,
   "metadata": {},
   "outputs": [
    {
     "data": {
      "text/plain": [
       "<matplotlib.axes._subplots.AxesSubplot at 0x1a18c579b0>"
      ]
     },
     "execution_count": 13,
     "metadata": {},
     "output_type": "execute_result"
    },
    {
     "data": {
      "image/png": "[encoded data removed]",
      "text/plain": [
       "<matplotlib.figure.Figure at 0x10e786f28>"
      ]
     },
     "metadata": {},
     "output_type": "display_data"
    }
   ],
   "source": [
    "#looking at correlations:\n",
    "corrs=bike_rentals.corr()\n",
    "fig, ax=plt.subplots(figsize=(8,6))\n",
    "sns.heatmap(corrs)"
   ]
  },
  {
   "cell_type": "code",
   "execution_count": 18,
   "metadata": {},
   "outputs": [
    {
     "data": {
      "text/plain": [
       "cnt           1.000000\n",
       "registered    0.972151\n",
       "casual        0.694564\n",
       "temp          0.404772\n",
       "atemp         0.400929\n",
       "hr            0.394071\n",
       "hum           0.322911\n",
       "instant       0.278379\n",
       "yr            0.250495\n",
       "season        0.178056\n",
       "weathersit    0.142426\n",
       "mnth          0.120638\n",
       "windspeed     0.093234\n",
       "holiday       0.030927\n",
       "workingday    0.030284\n",
       "weekday       0.026900\n",
       "Name: cnt, dtype: float64"
      ]
     },
     "execution_count": 18,
     "metadata": {},
     "output_type": "execute_result"
    }
   ],
   "source": [
    "corrs['cnt'].abs().sort_values(ascending=False)"
   ]
  },
  {
   "cell_type": "markdown",
   "metadata": {},
   "source": [
    "registered and casual are highly correlated with cnt! at the same time, they are correlated to each other as well. So, first, considering one of them would be enough. However, if we know the number of registered bikers, we probably already know the number of total rents. Therefore, we would need to drop both columns.\n",
    "\n",
    "Let's bundle the time! at the moment, the time is in the 1-24 period. We'd like to bundle it in morning, noon, afternoon, and evening. In this way, we can make better predictions based on time."
   ]
  },
  {
   "cell_type": "code",
   "execution_count": 20,
   "metadata": {},
   "outputs": [],
   "source": [
    "def assign_label(hr):\n",
    "    if (hr >0) and (hr<=6):\n",
    "        return 4\n",
    "    if (hr>6) and (hr<=12):\n",
    "        return 1\n",
    "    if (hr>12) and (hr<=18):\n",
    "        return 2\n",
    "    else:\n",
    "        return 3\n",
    "\n",
    "bike_rentals['time_label']=bike_rentals['hr'].apply(assign_label)"
   ]
  },
  {
   "cell_type": "markdown",
   "metadata": {},
   "source": [
    "`cnt` is a continous variable and therefore rmse would be a good measure for estimating the error of model."
   ]
  },
  {
   "cell_type": "code",
   "execution_count": 30,
   "metadata": {},
   "outputs": [],
   "source": [
    "from sklearn.metrics import mean_squared_error\n",
    "train=bike_rentals.sample(frac=0.8)\n",
    "test=bike_rentals.loc[~bike_rentals.index.isin(train.index)]"
   ]
  },
  {
   "cell_type": "markdown",
   "metadata": {},
   "source": [
    "####  Feature selection\n",
    "Registered and casual are highly correlated with cnt! at the same time, they are correlated to each other as well. So, first, considering one of them would be enough. However, if we know the number of registered bikers, we probably already know the number of total rents. Therefore, we would need to drop both columns.\n",
    "\n",
    "Also, dtedate already exists in other forms in the data. Let's take a look at other columns."
   ]
  },
  {
   "cell_type": "code",
   "execution_count": 32,
   "metadata": {},
   "outputs": [
    {
     "data": {
      "text/plain": [
       "1    8734\n",
       "0    8645\n",
       "Name: yr, dtype: int64"
      ]
     },
     "execution_count": 32,
     "metadata": {},
     "output_type": "execute_result"
    }
   ],
   "source": [
    "bike_rentals['yr'].value_counts()"
   ]
  },
  {
   "cell_type": "markdown",
   "metadata": {},
   "source": [
    "Okay we'll keep the year column, just in case the prediction has anything to do with the year"
   ]
  },
  {
   "cell_type": "code",
   "execution_count": 34,
   "metadata": {},
   "outputs": [
    {
     "data": {
      "text/plain": [
       "temp          1.000000\n",
       "atemp         0.987672\n",
       "casual        0.459616\n",
       "cnt           0.404772\n",
       "registered    0.335361\n",
       "season        0.312025\n",
       "mnth          0.201691\n",
       "hr            0.137603\n",
       "instant       0.136178\n",
       "weathersit    0.102640\n",
       "hum           0.069881\n",
       "workingday    0.055390\n",
       "yr            0.040913\n",
       "holiday       0.027340\n",
       "windspeed     0.023125\n",
       "weekday       0.001795\n",
       "Name: temp, dtype: float64"
      ]
     },
     "execution_count": 34,
     "metadata": {},
     "output_type": "execute_result"
    }
   ],
   "source": [
    "corrs['temp'].abs().sort_values(ascending=False)"
   ]
  },
  {
   "cell_type": "markdown",
   "metadata": {},
   "source": [
    "Obviously, temp and atemp are very correlated. I'll drop atemp."
   ]
  },
  {
   "cell_type": "code",
   "execution_count": 39,
   "metadata": {},
   "outputs": [
    {
     "name": "stdout",
     "output_type": "stream",
     "text": [
      "Root mean squared error is: 133.306315604\n"
     ]
    }
   ],
   "source": [
    "from sklearn.linear_model import LinearRegression\n",
    "\n",
    "features=['season','yr','mnth','holiday','weekday','workingday','weathersit','temp','hum','windspeed','time_label']\n",
    "\n",
    "model=LinearRegression()\n",
    "model.fit(train[features],train['cnt'])\n",
    "predictions=model.predict(test[features])\n",
    "\n",
    "rmse=(mean_squared_error(test['cnt'],predictions))**(1/2)\n",
    "print('Root mean squared error is:',rmse)"
   ]
  },
  {
   "cell_type": "markdown",
   "metadata": {},
   "source": [
    "The error is extremly high! let's deduct columns and test again!"
   ]
  },
  {
   "cell_type": "code",
   "execution_count": 44,
   "metadata": {},
   "outputs": [
    {
     "name": "stdout",
     "output_type": "stream",
     "text": [
      "Root mean squared error is: 139.560744641\n"
     ]
    }
   ],
   "source": [
    "features2=['season','holiday','weekday','workingday','weathersit','temp','hum','windspeed','time_label']\n",
    "model=LinearRegression()\n",
    "model.fit(train[features2],train['cnt'])\n",
    "predictions=model.predict(test[features2])\n",
    "\n",
    "rmse=(mean_squared_error(test['cnt'],predictions))**(1/2)\n",
    "print('Root mean squared error is:',rmse)"
   ]
  },
  {
   "cell_type": "markdown",
   "metadata": {},
   "source": [
    "Okay! error got bigger! This could be because the histogram of cnt shows small amount of high rental counts and a lot of low rental counts.\n",
    "\n",
    "At this point, I'll switch to a different algorithm. Let's use decision trees."
   ]
  },
  {
   "cell_type": "code",
   "execution_count": 58,
   "metadata": {},
   "outputs": [
    {
     "name": "stdout",
     "output_type": "stream",
     "text": [
      "Root mean squared error is: 123.275045685\n"
     ]
    }
   ],
   "source": [
    "from sklearn.tree import DecisionTreeRegressor\n",
    "\n",
    "dt=DecisionTreeRegressor(max_depth=9)\n",
    "dt.fit(train[features],train['cnt'])\n",
    "predictions=dt.predict(test[features])\n",
    "\n",
    "rmse=(mean_squared_error(test['cnt'],predictions))**(1/2)\n",
    "print('Root mean squared error is:',rmse)"
   ]
  },
  {
   "cell_type": "markdown",
   "metadata": {},
   "source": [
    "Okay! lower error! so let's switch to random forrest for a better precision."
   ]
  },
  {
   "cell_type": "code",
   "execution_count": 65,
   "metadata": {},
   "outputs": [
    {
     "name": "stdout",
     "output_type": "stream",
     "text": [
      "Root mean squared error is: 117.938006513\n"
     ]
    }
   ],
   "source": [
    "from sklearn.ensemble import RandomForestRegressor\n",
    "\n",
    "reg = RandomForestRegressor(n_estimators=100, min_samples_leaf=15)\n",
    "reg.fit(train[features], train[\"cnt\"])\n",
    "\n",
    "predictions = reg.predict(test[features])\n",
    "rmse=(mean_squared_error(test['cnt'],predictions))**(1/2)\n",
    "print('Root mean squared error is:',rmse)"
   ]
  },
  {
   "cell_type": "markdown",
   "metadata": {},
   "source": [
    "Therefore, we decreased the error from 133 in linear regression to 117 in random forrest."
   ]
  }
 ],
 "metadata": {
  "kernelspec": {
   "display_name": "Python 3",
   "language": "python",
   "name": "python3"
  },
  "language_info": {
   "codemirror_mode": {
    "name": "ipython",
    "version": 3
   },
   "file_extension": ".py",
   "mimetype": "text/x-python",
   "name": "python",
   "nbconvert_exporter": "python",
   "pygments_lexer": "ipython3",
   "version": "3.6.3"
  }
 },
 "nbformat": 4,
 "nbformat_minor": 2
}
